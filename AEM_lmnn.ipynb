{
 "cells": [
  {
   "cell_type": "code",
   "execution_count": 1,
   "metadata": {},
   "outputs": [
    {
     "name": "stdout",
     "output_type": "stream",
     "text": [
      "[('DeletionFlag', 'C', 1, 0), ['Id', 'N', 10, 0], ['unique_id', 'C', 50, 0], ['ref_0001', 'F', 13, 11], ['ref_0001vs', 'F', 13, 11], ['ref_0010', 'F', 13, 11], ['ref_0100', 'F', 13, 11], ['ref_0100vs', 'F', 13, 11], ['thick', 'F', 13, 11], ['wii_clip_1', 'F', 13, 11], ['ceno_clip_', 'F', 13, 11], ['X', 'F', 19, 11], ['Y', 'F', 19, 11], ['Z', 'F', 19, 11], ['class', 'N', 10, 0], ['age', 'N', 10, 0]]\n"
     ]
    }
   ],
   "source": [
    "import shapefile as sf\n",
    "import numpy as np\n",
    "import sklearn as sl\n",
    "\n",
    "\n",
    "from itertools import cycle, compress\n",
    "from sklearn import preprocessing\n",
    "from sklearn import neighbors\n",
    "from metric_learn import LMNN\n",
    "from multiprocessing import Pool\n",
    "\n",
    "\n",
    "inputfile = sf.Reader(\"/g/data1a/ge3/AEM_Model/3D_AEM_model_V3.shp\")\n",
    "\n",
    "print(inputfile.fields)"
   ]
  },
  {
   "cell_type": "code",
   "execution_count": 2,
   "metadata": {},
   "outputs": [],
   "source": [
    "inputrecord = inputfile.records()\n",
    "\n",
    "labelledrecord= np.array([x for x in inputrecord if x[-2]>0 and x[1]!='Surface'])\n",
    "unlabelledrecord= np.array([x for x in inputrecord if x[-2]==0 and x[1]!='Surface'])"
   ]
  },
  {
   "cell_type": "code",
   "execution_count": 93,
   "metadata": {},
   "outputs": [],
   "source": [
    "def run(train,test):\n",
    "    traininglabel = train[:,-2]\n",
    "    trainingfeature = train[:,[*range(2,10),12,14]]\n",
    "\n",
    "    testinglabel = test[:,-2]\n",
    "    testingfeature = test[:,[*range(2,10),12,14]]    \n",
    "    \n",
    "    whitener = preprocessing.StandardScaler().fit(trainingfeature)\n",
    "\n",
    "    trainingfeature_whitened = whitener.transform(trainingfeature)\n",
    "    testingfeature_whitened = whitener.transform(testingfeature)\n",
    "    \n",
    "    lmnn = LMNN(k=5, learn_rate=1e-6)\n",
    "    lmnn.fit(trainingfeature_whitened, traininglabel)\n",
    "    \n",
    "    trainingfeature_transformed = lmnn.transform(trainingfeature_whitened)\n",
    "    testingfeature_transformed = lmnn.transform(testingfeature_whitened)\n",
    "\n",
    "    kdtree = neighbors.KDTree(trainingfeature_transformed)\n",
    "    \n",
    "    prediction = kdtree.query(testingfeature_transformed,1)\n",
    "    \n",
    "    predictedlabel = np.array([traininglabel[x[0]] for x in prediction[1]])\n",
    "    \n",
    "    #return testinglabel-predictedlabel\n",
    "    return float(sum(map(bool,testinglabel.astype(int)-predictedlabel.astype(int))))/len(testinglabel)\n",
    "    \n",
    "def knn(train, test):\n",
    "    traininglabel = train[:,-2]\n",
    "    trainingfeature = train[:,[*range(2,10),12,14]]\n",
    "\n",
    "    testinglabel = test[:,-2]\n",
    "    testingfeature = test[:,[*range(2,10),12,14]]  \n",
    "    \n",
    "    whitener = preprocessing.StandardScaler().fit(trainingfeature)\n",
    "\n",
    "    trainingfeature_whitened = whitener.transform(trainingfeature)\n",
    "    testingfeature_whitened = whitener.transform(testingfeature)    \n",
    "    \n",
    "    lmnn = LMNN(k=5, learn_rate=1e-6)\n",
    "    lmnn.fit(trainingfeature_whitened, traininglabel)    \n",
    "    \n",
    "    trainingfeature_transformed = lmnn.transform(trainingfeature_whitened)\n",
    "    testingfeature_transformed = lmnn.transform(testingfeature_whitened)    \n",
    "    \n",
    "    knn=neighbors.KNeighborsClassifier(n_neighbors=5)\n",
    "    knn.fit(trainingfeature_transformed, traininglabel)\n",
    "    predictedlabel = knn.predict(testingfeature_transformed)\n",
    "    \n",
    "    return float(sum(map(bool,testinglabel.astype(int)-predictedlabel.astype(int))))/len(testinglabel)\n",
    "    \n",
    "    \n",
    "def cross_fold( fid):\n",
    "    folds = sorted(list(set(labelledrecord[:,1])))\n",
    "    \n",
    "    train = np.array([x for x in labelledrecord if x[1]!=folds[fid]])\n",
    "    test = np.array([x for x in labelledrecord if x[1]==folds[fid]])\n",
    "    return knn(train, test)\n"
   ]
  },
  {
   "cell_type": "code",
   "execution_count": 94,
   "metadata": {},
   "outputs": [
    {
     "name": "stderr",
     "output_type": "stream",
     "text": [
      "/g/data1a/ge3/yuhang/anaconda3/lib/python3.6/site-packages/sklearn/utils/validation.py:475: DataConversionWarning: Data with input dtype <U21 was converted to float64 by StandardScaler.\n",
      "  warnings.warn(msg, DataConversionWarning)\n",
      "/g/data1a/ge3/yuhang/anaconda3/lib/python3.6/site-packages/sklearn/utils/validation.py:475: DataConversionWarning: Data with input dtype <U21 was converted to float64 by StandardScaler.\n",
      "  warnings.warn(msg, DataConversionWarning)\n",
      "/g/data1a/ge3/yuhang/anaconda3/lib/python3.6/site-packages/sklearn/utils/validation.py:475: DataConversionWarning: Data with input dtype <U21 was converted to float64 by StandardScaler.\n",
      "  warnings.warn(msg, DataConversionWarning)\n",
      "/g/data1a/ge3/yuhang/anaconda3/lib/python3.6/site-packages/sklearn/utils/validation.py:475: DataConversionWarning: Data with input dtype <U21 was converted to float64 by StandardScaler.\n",
      "  warnings.warn(msg, DataConversionWarning)\n",
      "/g/data1a/ge3/yuhang/anaconda3/lib/python3.6/site-packages/sklearn/utils/validation.py:475: DataConversionWarning: Data with input dtype <U21 was converted to float64 by StandardScaler.\n",
      "  warnings.warn(msg, DataConversionWarning)\n",
      "/g/data1a/ge3/yuhang/anaconda3/lib/python3.6/site-packages/sklearn/utils/validation.py:475: DataConversionWarning: Data with input dtype <U21 was converted to float64 by StandardScaler.\n",
      "  warnings.warn(msg, DataConversionWarning)\n",
      "/g/data1a/ge3/yuhang/anaconda3/lib/python3.6/site-packages/sklearn/utils/validation.py:475: DataConversionWarning: Data with input dtype <U21 was converted to float64 by StandardScaler.\n",
      "  warnings.warn(msg, DataConversionWarning)\n",
      "/g/data1a/ge3/yuhang/anaconda3/lib/python3.6/site-packages/sklearn/utils/validation.py:475: DataConversionWarning: Data with input dtype <U21 was converted to float64 by StandardScaler.\n",
      "  warnings.warn(msg, DataConversionWarning)\n",
      "/g/data1a/ge3/yuhang/anaconda3/lib/python3.6/site-packages/sklearn/utils/validation.py:475: DataConversionWarning: Data with input dtype <U21 was converted to float64 by StandardScaler.\n",
      "  warnings.warn(msg, DataConversionWarning)\n",
      "/g/data1a/ge3/yuhang/anaconda3/lib/python3.6/site-packages/sklearn/utils/validation.py:475: DataConversionWarning: Data with input dtype <U21 was converted to float64 by StandardScaler.\n",
      "  warnings.warn(msg, DataConversionWarning)\n"
     ]
    }
   ],
   "source": [
    "error = Pool(10).map(cross_fold,range(51))\n",
    "\n"
   ]
  },
  {
   "cell_type": "code",
   "execution_count": 95,
   "metadata": {},
   "outputs": [
    {
     "data": {
      "text/plain": [
       "0.19511715017390968"
      ]
     },
     "execution_count": 95,
     "metadata": {},
     "output_type": "execute_result"
    }
   ],
   "source": [
    "np.mean(error)"
   ]
  },
  {
   "cell_type": "code",
   "execution_count": 96,
   "metadata": {},
   "outputs": [
    {
     "data": {
      "text/plain": [
       "[0.1,\n",
       " 0.06666666666666667,\n",
       " 0.03333333333333333,\n",
       " 0.1,\n",
       " 0.2,\n",
       " 0.13333333333333333,\n",
       " 0.03333333333333333,\n",
       " 0.0,\n",
       " 0.0,\n",
       " 0.6666666666666666,\n",
       " 0.3333333333333333,\n",
       " 0.0,\n",
       " 0.0,\n",
       " 0.5,\n",
       " 0.03333333333333333,\n",
       " 0.06666666666666667,\n",
       " 0.26666666666666666,\n",
       " 0.3,\n",
       " 0.1,\n",
       " 0.2,\n",
       " 0.13333333333333333,\n",
       " 0.5,\n",
       " 0.2,\n",
       " 0.23333333333333334,\n",
       " 0.2,\n",
       " 0.36666666666666664,\n",
       " 0.0,\n",
       " 0.13333333333333333,\n",
       " 0.13333333333333333,\n",
       " 0.32142857142857145,\n",
       " 0.4,\n",
       " 0.2,\n",
       " 0.0,\n",
       " 0.0,\n",
       " 0.25,\n",
       " 0.0,\n",
       " 1.0,\n",
       " 0.42857142857142855,\n",
       " 0.25925925925925924,\n",
       " 0.3157894736842105,\n",
       " 0.1,\n",
       " 0.0,\n",
       " 0.0,\n",
       " 0.08333333333333333,\n",
       " 0.3333333333333333,\n",
       " 0.5333333333333333,\n",
       " 0.14814814814814814,\n",
       " 0.2,\n",
       " 0.1111111111111111,\n",
       " 0.0,\n",
       " 0.23333333333333334]"
      ]
     },
     "execution_count": 96,
     "metadata": {},
     "output_type": "execute_result"
    }
   ],
   "source": [
    "error"
   ]
  },
  {
   "cell_type": "code",
   "execution_count": 25,
   "metadata": {},
   "outputs": [
    {
     "data": {
      "text/plain": [
       "[0.1,\n",
       " 0.06666666666666667,\n",
       " 0.06666666666666667,\n",
       " 0.1,\n",
       " 0.3,\n",
       " 0.16666666666666666,\n",
       " 0.03333333333333333,\n",
       " 0.13333333333333333,\n",
       " 0.0,\n",
       " 0.6666666666666666,\n",
       " 0.36666666666666664,\n",
       " 0.0,\n",
       " 0.0,\n",
       " 0.43333333333333335,\n",
       " 0.2,\n",
       " 0.2,\n",
       " 0.43333333333333335,\n",
       " 0.3,\n",
       " 0.06666666666666667,\n",
       " 0.2,\n",
       " 0.03333333333333333,\n",
       " 0.8333333333333334,\n",
       " 0.2,\n",
       " 0.3333333333333333,\n",
       " 0.23333333333333334,\n",
       " 0.5333333333333333,\n",
       " 0.2,\n",
       " 0.13333333333333333,\n",
       " 0.13333333333333333,\n",
       " 0.17857142857142858,\n",
       " 0.4,\n",
       " 0.0,\n",
       " 0.0,\n",
       " 0.0,\n",
       " 0.5,\n",
       " 0.0,\n",
       " 1.0,\n",
       " 0.7142857142857143,\n",
       " 0.2962962962962963,\n",
       " 0.3157894736842105,\n",
       " 0.06666666666666667,\n",
       " 0.0,\n",
       " 0.0,\n",
       " 0.08333333333333333,\n",
       " 0.0,\n",
       " 0.6666666666666666,\n",
       " 0.18518518518518517,\n",
       " 0.2,\n",
       " 0.14814814814814814,\n",
       " 0.0,\n",
       " 0.23333333333333334]"
      ]
     },
     "execution_count": 25,
     "metadata": {},
     "output_type": "execute_result"
    }
   ],
   "source": [
    "labelledrecord"
   ]
  },
  {
   "cell_type": "code",
   "execution_count": null,
   "metadata": {},
   "outputs": [],
   "source": []
  }
 ],
 "metadata": {
  "kernelspec": {
   "display_name": "Python 3",
   "language": "python",
   "name": "python3"
  },
  "language_info": {
   "codemirror_mode": {
    "name": "ipython",
    "version": 3
   },
   "file_extension": ".py",
   "mimetype": "text/x-python",
   "name": "python",
   "nbconvert_exporter": "python",
   "pygments_lexer": "ipython3",
   "version": "3.6.5"
  }
 },
 "nbformat": 4,
 "nbformat_minor": 2
}
